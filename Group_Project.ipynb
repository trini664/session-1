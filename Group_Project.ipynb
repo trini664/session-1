{
 "cells": [
  {
   "cell_type": "markdown",
   "id": "d6440183",
   "metadata": {},
   "source": [
    "### Group Prject - London Bike Rentals\n",
    "\n",
    "In this project, you will work with the London Bikes dataset, which records daily bike rentals in the city along with key variables such as dates, weather conditions, and seasonality.\n",
    "\n",
    "The goal is to apply the full data analytics workflow:\n",
    "\n",
    "- Clean and prepare the dataset.\n",
    "\n",
    "- Explore the data through visualisation.\n",
    "\n",
    "- Construct and interpret confidence intervals.\n",
    "\n",
    "- Build a regression model to explain variation in bike rentals.\n",
    "\n",
    "- By the end, you will connect statistical concepts with practical Python analysis."
   ]
  },
  {
   "cell_type": "code",
   "execution_count": null,
   "id": "77f62329",
   "metadata": {},
   "outputs": [],
   "source": [
    "## Import libraries and data"
   ]
  },
  {
   "cell_type": "markdown",
   "id": "e8eebb78",
   "metadata": {},
   "source": [
    "**1. Data Cleaning**\n",
    "\n",
    "Check for missing values across columns. How would you handle them?\n",
    "\n",
    "Inspect the date column and ensure it is correctly formatted as datetime. Extract useful features (year, month, day, day of week, season).\n",
    "\n",
    "Convert categorical variables (e.g., season, weather) to appropriate categories in Python.\n",
    "\n",
    "Ensure numeric columns (e.g., bikes rented, temperature) are in the right format."
   ]
  },
  {
   "cell_type": "code",
   "execution_count": null,
   "id": "2d309da5",
   "metadata": {},
   "outputs": [],
   "source": [
    "## Your code goes here"
   ]
  },
  {
   "cell_type": "markdown",
   "id": "44a915a8",
   "metadata": {},
   "source": [
    "**2. Exploratory Data Analysis (EDA)**\n",
    "\n",
    "Plot the distribution of bikes rented.\n",
    "\n",
    "Explore how rentals vary by season and month.\n",
    "\n",
    "Investigate the relationship between temperature and bikes rented.\n",
    "\n",
    "**Deliverables:**\n",
    "\n",
    "At least 3 clear visualisations with captions.\n",
    "\n",
    "A short written interpretation of key patterns (seasonality, weather effects, etc.).\n",
    "\n"
   ]
  },
  {
   "cell_type": "code",
   "execution_count": null,
   "id": "5aacf6e9",
   "metadata": {},
   "outputs": [],
   "source": [
    "## Your code goes here"
   ]
  },
  {
   "cell_type": "markdown",
   "id": "8367a791",
   "metadata": {},
   "source": [
    "**3. Construct 95% confidence intervals for the mean number of bikes rented per season.**\n",
    "\n",
    "Repeat the calculation per month.\n",
    "\n",
    "Interpret the result:\n",
    "\n",
    "What range of values do you expect the true mean to lie in?\n",
    "\n",
    "Which seasons/months have higher or lower average demand?\n",
    "\n",
    "Are there overlaps in the intervals, and what does that mean?\n",
    "\n",
    "**Deliverables:**\n",
    "\n",
    "A table or plot showing the mean and confidence intervals.\n",
    "\n",
    "A short interpretation."
   ]
  },
  {
   "cell_type": "code",
   "execution_count": null,
   "id": "732fdf58",
   "metadata": {},
   "outputs": [],
   "source": [
    "## Your code goes here"
   ]
  },
  {
   "cell_type": "markdown",
   "id": "022fa6bf",
   "metadata": {},
   "source": [
    "**Regression Analysis**\n",
    "\n",
    "What variables influence the number of bikes rented (y) and how? Build a regression model that best explains the variability in bikes rented.\n",
    "\n",
    "**Interpret:**\n",
    "\n",
    "Which predictors are significant?\n",
    "\n",
    "What do the coefficients mean (in practical terms)?\n",
    "\n",
    "How much of the variation in bike rentals is explained (R²)?\n",
    "\n",
    "**Deliverables:**\n",
    "\n",
    "Regression output table.\n",
    "\n",
    "A short discussion of which factors matter most for predicting bike rentals."
   ]
  },
  {
   "cell_type": "code",
   "execution_count": null,
   "id": "fba598cb",
   "metadata": {},
   "outputs": [],
   "source": [
    "### Your code goes here"
   ]
  },
  {
   "cell_type": "markdown",
   "id": "225d1c3b",
   "metadata": {},
   "source": [
    "## Deliverables\n",
    "A knitted HTML, one person per group to submit"
   ]
  },
  {
   "cell_type": "markdown",
   "id": "5a4efb13",
   "metadata": {},
   "source": []
  }
 ],
 "metadata": {
  "language_info": {
   "name": "python"
  }
 },
 "nbformat": 4,
 "nbformat_minor": 5
}
