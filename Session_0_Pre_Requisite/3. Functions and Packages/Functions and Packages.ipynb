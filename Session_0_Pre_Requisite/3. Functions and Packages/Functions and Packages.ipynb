{
 "cells": [
  {
   "cell_type": "markdown",
   "id": "fff6954b",
   "metadata": {},
   "source": [
    "### Familiar functions\n",
    "Out of the box, Python offers a bunch of built-in functions to make your life as a data scientist easier. You already know two such functions: `print()` and `type()`. There are also functions like `str()`, `int()`, `bool()` and `float()` to switch between data types.\n",
    "\n",
    "Calling a function is easy. To get the `type` of `3.0` and store the output as a new variable, result, you can use the following:\n",
    "\n",
    "`result = type(3.0)`"
   ]
  },
  {
   "cell_type": "code",
   "execution_count": 1,
   "id": "32ffadfd",
   "metadata": {},
   "outputs": [
    {
     "name": "stdout",
     "output_type": "stream",
     "text": [
      "<class 'list'>\n",
      "4\n"
     ]
    }
   ],
   "source": [
    "# Create variables var1 and var2\n",
    "var1 = [1, 2, 3, 4]\n",
    "var2 = True\n",
    "\n",
    "# Use print() in combination with type() to print out the type of var1.\n",
    "print(type(var1))\n",
    "\n",
    "# Use len() to get the length of the list var1. Wrap it in a print() call to directly print it out.\n",
    "print(len(var1))\n",
    "\n",
    "# Use int() to convert var2 to an integer. Store the output as out2.\n",
    "out2 = int(var2)"
   ]
  },
  {
   "cell_type": "markdown",
   "id": "999bb9d6",
   "metadata": {},
   "source": [
    "### Help!\n",
    "Maybe you already know the name of a Python function, but you still have to figure out how to use it. Ironically, you have to ask for information about a function with another function: `help()`. In IPython specifically, you can also use `?` before the function name.\n",
    "\n",
    "To get help on the `max()` function, for example, you can use one of these calls:\n",
    "\n",
    "`help(max)`\n",
    "\n",
    "`?max`"
   ]
  },
  {
   "cell_type": "markdown",
   "id": "c35c544a",
   "metadata": {},
   "source": [
    "### Multiple arguments\n",
    "In the previous exercise, you identified optional arguments by viewing the documentation with `help()`. You'll now apply this to change the behavior of the `sorted()` function.\n",
    "\n",
    "Have a look at the documentation of `sorted()` by typing `help(sorted)` in the IPython Shell.\n",
    "\n",
    "You'll see that `sorted()` takes three arguments: `iterable`, `key`, and `reverse`. In this exercise, you'll only have to specify iterable and reverse, not key.\n",
    "\n",
    "Two lists have been created for you.\n",
    "\n",
    "Can you paste them together and sort them in descending order?"
   ]
  },
  {
   "cell_type": "code",
   "execution_count": 2,
   "id": "9e82014a",
   "metadata": {},
   "outputs": [
    {
     "name": "stdout",
     "output_type": "stream",
     "text": [
      "[20.0, 18.0, 11.25, 10.75, 9.5]\n"
     ]
    }
   ],
   "source": [
    "# Create lists first and second\n",
    "first = [11.25, 18.0, 20.0]\n",
    "second = [10.75, 9.50]\n",
    "\n",
    "# Use + to merge the contents of first and second into a new list: full.\n",
    "full = first + second\n",
    "\n",
    "# Call sorted() and on full and specify the reverse argument to be True. Save the sorted list as full_sorted.\n",
    "full_sorted = sorted(full, reverse = True)\n",
    "\n",
    "# Finish off by printing out full_sorted.\n",
    "print(full_sorted)"
   ]
  },
  {
   "cell_type": "markdown",
   "id": "c1b35cf1",
   "metadata": {},
   "source": [
    "### String Methods\n",
    "Strings come with a bunch of methods. Follow the instructions closely to discover some of them. If you want to discover them in more detail, you can always type `help(str)` in the IPython Shell.\n",
    "\n",
    "A string place has already been created for you to experiment with."
   ]
  },
  {
   "cell_type": "code",
   "execution_count": 4,
   "id": "0242dd8d",
   "metadata": {},
   "outputs": [
    {
     "name": "stdout",
     "output_type": "stream",
     "text": [
      "poolhouse\n",
      "POOLHOUSE\n",
      "3\n"
     ]
    }
   ],
   "source": [
    "# string to experiment with: place\n",
    "place = \"poolhouse\"\n",
    "\n",
    "# Use the .upper() method on place and store the result in place_up. Use the syntax for calling methods that you learned.\n",
    "place_up = place.upper()\n",
    "\n",
    "# Print out place and place_up. Did both change?\n",
    "print(place)\n",
    "print(place_up)\n",
    "\n",
    "# Print out the number of o's on the variable place by calling .count() on place and passing the letter 'o' as an input to the method. \n",
    "# We're talking about the variable place, not the word \"place\"!\n",
    "print(place.count('o'))"
   ]
  },
  {
   "cell_type": "markdown",
   "id": "345a1f08",
   "metadata": {},
   "source": [
    "### List Methods\n",
    "Strings are not the only Python types that have methods associated with them. `Lists`, `floats`, `integers` and `booleans` are also types that come packaged with a bunch of useful methods. In this exercise, you'll be experimenting with:\n",
    "\n",
    "- `.index()`, to get the index of the first element of a list that matches its input and\n",
    "- `.count()`, to get the number of times an element appears in a list.\n",
    "You'll be working on the list with the area of different parts of a house: areas."
   ]
  },
  {
   "cell_type": "code",
   "execution_count": 6,
   "id": "7292fcf6",
   "metadata": {},
   "outputs": [
    {
     "name": "stdout",
     "output_type": "stream",
     "text": [
      "2\n",
      "1\n"
     ]
    }
   ],
   "source": [
    "# Create list areas\n",
    "areas = [11.25, 18.0, 20.0, 10.75, 9.50]\n",
    "\n",
    "# Use the .index() method to get the index of the element in areas that is equal to 20.0. Print out this index.\n",
    "print(areas.index(20.0))\n",
    "\n",
    "# Call .count() on areas to find out how many times 9.50 appears in the list. Again, simply print out this number.\n",
    "print(areas.count(9.50))"
   ]
  },
  {
   "cell_type": "markdown",
   "id": "fe5d67d0",
   "metadata": {},
   "source": [
    "### List Methods (2)\n",
    "Most list methods will change the list they're called on. Examples are:\n",
    "\n",
    "- `.append()`, that adds an element to the list it is called on,\n",
    "- `.remove()`, that removes the first element of a list that matches the input, and\n",
    "- `.reverse()`, that reverses the order of the elements in the list it is called on.\n",
    "You'll be working on the list with the area of different parts of the house: areas."
   ]
  },
  {
   "cell_type": "code",
   "execution_count": 8,
   "id": "82f2c495",
   "metadata": {},
   "outputs": [
    {
     "name": "stdout",
     "output_type": "stream",
     "text": [
      "[11.25, 18.0, 20.0, 10.75, 9.5, 24.5, 15.45]\n",
      "[15.45, 24.5, 9.5, 10.75, 20.0, 18.0, 11.25]\n"
     ]
    }
   ],
   "source": [
    "# Create list areas\n",
    "areas = [11.25, 18.0, 20.0, 10.75, 9.50]\n",
    "\n",
    "# Use .append() twice to add the size of the poolhouse and the garage again: 24.5 and 15.45, respectively. Make sure to add them in this order.\n",
    "areas.append(24.5)\n",
    "areas.append(15.45)\n",
    "\n",
    "# Print out areas\n",
    "print(areas)\n",
    "\n",
    "# Use the .reverse() method to reverse the order of the elements in areas.\n",
    "areas.reverse()\n",
    "\n",
    "# Print out areas once more.\n",
    "print(areas)"
   ]
  },
  {
   "cell_type": "markdown",
   "id": "370c27bc",
   "metadata": {},
   "source": [
    "### Import package\n",
    "\n",
    "Let's say you wanted to calculate the circumference and area of a circle. Here's what those formulas look like:\n",
    "\n",
    "$$\n",
    "C = 2 \\pi r\n",
    "$$\n",
    "\n",
    "$$\n",
    "A = \\pi r^2\n",
    "$$\n",
    "\n",
    "\n",
    "Rather than typing the number for `pi`, you can use the `math` package that contains the number\n",
    "\n",
    "For reference, ** is the symbol for exponentiation. For example 3**4 is 3 to the power of 4 and will give 81."
   ]
  },
  {
   "cell_type": "code",
   "execution_count": 10,
   "id": "4cc143a0",
   "metadata": {},
   "outputs": [
    {
     "name": "stdout",
     "output_type": "stream",
     "text": [
      "Circumference: 2.701769682087222\n",
      "Area: 0.5808804816487527\n"
     ]
    }
   ],
   "source": [
    "# Define radius\n",
    "radius = 0.43\n",
    "\n",
    "# Import the math package.\n",
    "import math\n",
    "\n",
    "# Use math.pi to calculate the circumference of the circle and store it in C.\n",
    "C = 2 * math.pi * radius\n",
    "\n",
    "# Use math.pi to calculate the area of the circle and store it in A.\n",
    "A = math.pi * radius ** 2\n",
    "\n",
    "# Print out C and A\n",
    "print(\"Circumference:\", C)\n",
    "print(\"Area:\", A)"
   ]
  },
  {
   "cell_type": "markdown",
   "id": "ba4c18b7",
   "metadata": {},
   "source": [
    "### Selective import\n",
    "General imports, like `import math`, make all functionality from the math package available to you. However, if you decide to only use a specific part of a package, you can always make your import more selective:\n",
    "\n",
    "`from math import pi`"
   ]
  },
  {
   "cell_type": "code",
   "execution_count": 11,
   "id": "c53b4d98",
   "metadata": {},
   "outputs": [
    {
     "name": "stdout",
     "output_type": "stream",
     "text": [
      "Circumference: 1209513.1716320703\n",
      "Area: 116415642769.58678\n"
     ]
    }
   ],
   "source": [
    "# Define radius\n",
    "r = 192500\n",
    "\n",
    "# Perform a selective import from the math package where you only import the pi function.\n",
    "from math import pi\n",
    "\n",
    "# Use pi to calculate the circumference of the circle and store it in C.\n",
    "C = 2 * pi * r\n",
    "\n",
    "# Use pi to calculate the area of the circle and store it in A.\n",
    "A = pi * r ** 2\n",
    "\n",
    "# Print out C and A\n",
    "print(\"Circumference:\", C)\n",
    "print(\"Area:\", A)"
   ]
  },
  {
   "cell_type": "markdown",
   "id": "35eca418",
   "metadata": {},
   "source": [
    "### Different ways of importing\n",
    "There are several ways to import packages and modules into Python. Depending on the import call, you'll have to use different Python code.\n",
    "\n",
    "Suppose you want to use the function `inv()`, which is in the `linalg` subpackage of the `scipy` package. You want to be able to use this function as follows:\n",
    "\n",
    "`my_inv([[1,2], [3,4]])`\n",
    "\n",
    "Which import statement will you need in order to run the above code without an error?\n",
    "\n",
    "- [ ] `import scipy`\n",
    "- [ ] `import scipy.linalg`\n",
    "- [ ] `from scipy.linalg import my_inv`\n",
    "- [x] `from scipy.linalg import inv as my_inv`"
   ]
  },
  {
   "cell_type": "markdown",
   "id": "f7f791ef",
   "metadata": {},
   "source": []
  }
 ],
 "metadata": {
  "kernelspec": {
   "display_name": "Python 3",
   "language": "python",
   "name": "python3"
  },
  "language_info": {
   "codemirror_mode": {
    "name": "ipython",
    "version": 3
   },
   "file_extension": ".py",
   "mimetype": "text/x-python",
   "name": "python",
   "nbconvert_exporter": "python",
   "pygments_lexer": "ipython3",
   "version": "3.12.1"
  }
 },
 "nbformat": 4,
 "nbformat_minor": 5
}
