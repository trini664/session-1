{
 "cells": [
  {
   "cell_type": "markdown",
   "id": "464c2672",
   "metadata": {},
   "source": [
    "### Create a list\n",
    "A list is a compound data type; you can group values together, like this:\n",
    "\n",
    "`a = \"is\"`\n",
    "\n",
    "`b = \"nice\"`\n",
    "\n",
    "`my_list = [\"my\", \"list\", a, b]`\n",
    "\n",
    "After measuring the height of your family, you decide to collect some information on the house you're living in. The areas of the different parts of your house are stored in separate variables in the exercise."
   ]
  },
  {
   "cell_type": "code",
   "execution_count": 1,
   "id": "787e3e70",
   "metadata": {},
   "outputs": [
    {
     "name": "stdout",
     "output_type": "stream",
     "text": [
      "[11.25, 18.0, 20.0, 10.75, 9.5]\n"
     ]
    }
   ],
   "source": [
    "# Create a list, areas, that contains the area of the hallway (hall), kitchen (kit), living room (liv), \n",
    "# bedroom (bed) and bathroom (bath), in this order. Use the predefined variables.\n",
    "\n",
    "# area variables (in square meters)\n",
    "hall = 11.25\n",
    "kit = 18.0\n",
    "liv = 20.0\n",
    "bed = 10.75\n",
    "bath = 9.50\n",
    "\n",
    "# Create list areas\n",
    "areas = [hall, kit, liv, bed, bath]\n",
    "\n",
    "# Print areas with the print() function.\n",
    "print(areas)\n"
   ]
  },
  {
   "cell_type": "markdown",
   "id": "8df09a64",
   "metadata": {},
   "source": [
    "### Create lists with different types\n",
    "Although it's not really common, a list can also contain a mix of Python types including `strings`, `floats`, and `booleans`.\n",
    "\n",
    "You're now going to add the room names to your list, so you can easily see both the room name and size together.\n",
    "\n",
    "Some of the code has been provided for you to get you started. Pay attention here! \"bathroom\" is a string, while bath is a variable that represents the `float` 9.50 you specified earlier."
   ]
  },
  {
   "cell_type": "code",
   "execution_count": 1,
   "id": "6c7039e9",
   "metadata": {},
   "outputs": [
    {
     "name": "stdout",
     "output_type": "stream",
     "text": [
      "['hallway', 11.25, 'kitchen', 18.0, 'living room', 20.0, 'bedroom', 10.75, 'bathroom', 9.5]\n"
     ]
    }
   ],
   "source": [
    "# Build the list so that the list first contains the name of each room as a string and then its area. \n",
    "# In other words, add the strings \"hallway\", \"kitchen\" and \"bedroom\" at the appropriate locations.\n",
    "\n",
    "# area variables (in square meters)\n",
    "hall = 11.25\n",
    "kit = 18.0\n",
    "liv = 20.0\n",
    "bed = 10.75\n",
    "bath = 9.50\n",
    "\n",
    "# Adapt list areas\n",
    "areas = [\"hallway\", hall, \"kitchen\", kit, \"living room\", liv, \"bedroom\", bed, \"bathroom\", bath]\n",
    "\n",
    "# Print areas again; is the printout more informative this time?\n",
    "print(areas)"
   ]
  },
  {
   "cell_type": "markdown",
   "id": "9cfa6bf5",
   "metadata": {},
   "source": [
    "### List of lists\n",
    "As a data scientist, you'll often be dealing with a lot of data, and it will make sense to group some of this data.\n",
    "\n",
    "Instead of creating a list containing `strings` and `floats`, representing the names and areas of the rooms in your house, you can create a list of lists.\n",
    "\n",
    "Remember: \"hallway\" is a string, while hall is a variable that represents the float 11.25 you specified earlier."
   ]
  },
  {
   "cell_type": "code",
   "execution_count": 2,
   "id": "b88dc1aa",
   "metadata": {},
   "outputs": [
    {
     "name": "stdout",
     "output_type": "stream",
     "text": [
      "[['hallway', 11.25], ['kitchen', 18.0], ['living room', 20.0], ['bedroom', 10.75], ['bathroom', 9.5]]\n",
      "<class 'list'>\n"
     ]
    }
   ],
   "source": [
    "# Finish the list of lists so that it also contains the bedroom and bathroom data. Make sure you enter these in order!\n",
    "\n",
    "# area variables (in square meters)\n",
    "hall = 11.25\n",
    "kit = 18.0\n",
    "liv = 20.0\n",
    "bed = 10.75\n",
    "bath = 9.50\n",
    "\n",
    "# house information as list of lists\n",
    "house = [[\"hallway\", hall],\n",
    "         [\"kitchen\", kit],\n",
    "         [\"living room\", liv],\n",
    "         [\"bedroom\", bed],\n",
    "         [\"bathroom\", bath]]\n",
    "\n",
    "# Print out house; does this way of structuring your data make more sense?\n",
    "print(house)\n",
    "\n",
    "# Print out the type of house\n",
    "print(type(house))"
   ]
  },
  {
   "cell_type": "markdown",
   "id": "fac18cd0",
   "metadata": {},
   "source": [
    "### Subset and conquer\n",
    "\n",
    "Subsetting Python lists is a piece of cake. Take the code sample below, which creates a list `x` and then selects \"`b`\" from it. Remember that this is the second element, so it has index `1`. You can also use negative indexing.\n",
    "\n",
    "`x = [\"a\", \"b\", \"c\", \"d\"]`\n",
    "\n",
    "`x[1]`\n",
    "\n",
    "`x[-3]` # same result!\n",
    "\n",
    "Remember the areas list from before, containing both `strings` and `floats`? Its definition is already in the script. Can you add the correct code to do some Python subsetting?"
   ]
  },
  {
   "cell_type": "code",
   "execution_count": 6,
   "id": "d279fdf3",
   "metadata": {},
   "outputs": [
    {
     "name": "stdout",
     "output_type": "stream",
     "text": [
      "11.25\n",
      "9.5\n",
      "20.0\n"
     ]
    }
   ],
   "source": [
    "# Create the areas list\n",
    "areas = [\"hallway\", 11.25, \"kitchen\", 18.0, \"living room\", 20.0, \"bedroom\", 10.75, \"bathroom\", 9.50]\n",
    "\n",
    "# Print out the second element from the areas list (it has the value 11.25).\n",
    "print(areas[1])\n",
    "\n",
    "# Subset and print out the last element of areas, being 9.50. Using a negative index makes sense here!\n",
    "print(areas[-1])\n",
    "\n",
    "# Select the number representing the area of the living room (20.0) and print it out.\n",
    "print(areas[5])"
   ]
  },
  {
   "cell_type": "markdown",
   "id": "bb409842",
   "metadata": {},
   "source": [
    "### Slicing and dicing\n",
    "Selecting single values from a list is just one part of the story. It's also possible to slice your list, which means selecting multiple elements from your list. Use the following syntax:\n",
    "\n",
    "`my_list[start:end]`\n",
    "\n",
    "The start index will be included, while the end index is not. However, it's also possible not to specify these indexes. If you don't specify the start index, Python figures out that you want to start your slice at the beginning of your list."
   ]
  },
  {
   "cell_type": "code",
   "execution_count": 7,
   "id": "78c09687",
   "metadata": {},
   "outputs": [
    {
     "name": "stdout",
     "output_type": "stream",
     "text": [
      "['hallway', 11.25, 'kitchen', 18.0, 'living room', 20.0]\n",
      "['bedroom', 10.75, 'bathroom', 9.5]\n"
     ]
    }
   ],
   "source": [
    "# Create the areas list\n",
    "areas = [\"hallway\", 11.25, \"kitchen\", 18.0, \"living room\", 20.0, \"bedroom\", 10.75, \"bathroom\", 9.50]\n",
    "\n",
    "# Use slicing to create a list, downstairs, that contains the first 6 elements of areas.\n",
    "downstairs = areas[0:6]\n",
    "\n",
    "# Create upstairs, as the last 4 elements of areas. This time, simplify the slicing by omitting the end index.\n",
    "upstairs = areas[-4:]\n",
    "\n",
    "# Print both downstairs and upstairs using print().\n",
    "print(downstairs)\n",
    "print(upstairs) "
   ]
  },
  {
   "cell_type": "markdown",
   "id": "3b0693d7",
   "metadata": {},
   "source": [
    "### Subsetting lists of lists\n",
    "A Python list can also contain other lists.\n",
    "\n",
    "To subset lists of lists, you can use the same technique as before: square brackets. This would look something like this for a list, house:\n",
    "\n",
    "`house[2][0]`"
   ]
  },
  {
   "cell_type": "code",
   "execution_count": 8,
   "id": "e9a053ba",
   "metadata": {},
   "outputs": [
    {
     "data": {
      "text/plain": [
       "9.5"
      ]
     },
     "execution_count": 8,
     "metadata": {},
     "output_type": "execute_result"
    }
   ],
   "source": [
    "house = [[\"hallway\", 11.25],\n",
    "         [\"kitchen\", 18.0],\n",
    "         [\"living room\", 20.0],\n",
    "         [\"bedroom\", 10.75],\n",
    "         [\"bathroom\", 9.50]]\n",
    "\n",
    "# Subset the house list to get the float 9.5.\n",
    "house[-1][1]"
   ]
  },
  {
   "cell_type": "markdown",
   "id": "e25426b2",
   "metadata": {},
   "source": [
    "### Replace list elements\n",
    "To replace list elements, you subset the list and assign new values to the subset. You can select single elements or you can change entire list slices at once.\n",
    "\n",
    "For this and the following exercises, you'll continue working on the areas list that contains the names and areas of different rooms in a house."
   ]
  },
  {
   "cell_type": "code",
   "execution_count": 10,
   "id": "77bbe259",
   "metadata": {},
   "outputs": [
    {
     "name": "stdout",
     "output_type": "stream",
     "text": [
      "['hallway', 11.25, 'kitchen', 18.0, 'chill zone', 20.0, 'bedroom', 10.75, 'bathroom', 10.5]\n"
     ]
    }
   ],
   "source": [
    "# Create the areas list\n",
    "areas = [\"hallway\", 11.25, \"kitchen\", 18.0, \"living room\", 20.0, \"bedroom\", 10.75, \"bathroom\", 9.50]\n",
    "\n",
    "# Update the area of the bathroom to be 10.50 square meters instead of 9.50 using negative indexing.\n",
    "areas[-1] = 10.50\n",
    "\n",
    "# Make the areas list more trendy! Change \"living room\" to \"chill zone\". Don't use negative indexing this time.\n",
    "areas[4] = \"chill zone\"\n",
    "\n",
    "print(areas)"
   ]
  },
  {
   "cell_type": "markdown",
   "id": "56ff4a2d",
   "metadata": {},
   "source": [
    "### Extend a list\n",
    "If you can change elements in a list, you sure want to be able to add elements to it, right? You can use the `+` operator:\n",
    "\n",
    "`x = [\"a\", \"b\", \"c\", \"d\"]`\n",
    "\n",
    "`y = x + [\"e\", \"f\"]`\n",
    "\n",
    "You just won the lottery, awesome! You decide to build a poolhouse and a garage. Can you add the information to the areas list?"
   ]
  },
  {
   "cell_type": "code",
   "execution_count": 12,
   "id": "3abbeb64",
   "metadata": {},
   "outputs": [
    {
     "name": "stdout",
     "output_type": "stream",
     "text": [
      "['hallway', 11.25, 'kitchen', 18.0, 'chill zone', 20.0, 'bedroom', 10.75, 'bathroom', 10.5, 'poolhouse', 24.5]\n",
      "['hallway', 11.25, 'kitchen', 18.0, 'chill zone', 20.0, 'bedroom', 10.75, 'bathroom', 10.5, 'poolhouse', 24.5, 'garage', 15.45]\n"
     ]
    }
   ],
   "source": [
    "# Create the areas list and make some changes\n",
    "areas = [\"hallway\", 11.25, \"kitchen\", 18.0, \"chill zone\", 20.0,\n",
    "         \"bedroom\", 10.75, \"bathroom\", 10.50]\n",
    "\n",
    "# Use the + operator to paste the list [\"poolhouse\", 24.5] to the end of the areas list. Store the resulting list as areas_1.\n",
    "areas_1 = areas + [\"poolhouse\", 24.5]\n",
    "\n",
    "# Further extend areas_1 by adding data on your garage. Add the string \"garage\" and float 15.45. Name the resulting list areas_2.\n",
    "areas_2 = areas_1 + [\"garage\", 15.45]\n",
    "\n",
    "print(areas_1)\n",
    "print(areas_2)\n"
   ]
  },
  {
   "cell_type": "markdown",
   "id": "8b76e49c",
   "metadata": {},
   "source": [
    "### Delete list elements\n",
    "Finally, you can also remove elements from your list. You can do this with the del statement:\n",
    "\n",
    "`x = [\"a\", \"b\", \"c\", \"d\"]`\n",
    "\n",
    "`del x[1]`\n",
    "\n",
    "Pay attention here: as soon as you remove an element from a list, the indexes of the elements that come after the deleted element all change!\n",
    "\n",
    "Unfortunately, the amount you won with the lottery is not that big after all and it looks like the poolhouse isn't going to happen. You'll need to remove it from the list. You decide to remove the corresponding string and float from the areas list."
   ]
  },
  {
   "cell_type": "code",
   "execution_count": 20,
   "id": "1dfda91d",
   "metadata": {},
   "outputs": [
    {
     "name": "stdout",
     "output_type": "stream",
     "text": [
      "['hallway', 11.25, 'kitchen', 18.0, 'chill zone', 20.0, 'bedroom', 10.75, 'bathroom', 10.5, 24.5, 'garage', 15.45]\n"
     ]
    }
   ],
   "source": [
    "# Create the areas list and make some changes\n",
    "areas = [\"hallway\", 11.25, \"kitchen\", 18.0, \"chill zone\", 20.0,\n",
    "         \"bedroom\", 10.75, \"bathroom\", 10.50, \"poolhouse\", 24.5, \"garage\", 15.45]\n",
    "\n",
    "# Delete the string and float for the \"poolhouse\" from your areas list.\n",
    "del areas[10:11]\n",
    "\n",
    "# Print the updated areas list.\n",
    "print(areas)"
   ]
  },
  {
   "cell_type": "markdown",
   "id": "53c1c13d",
   "metadata": {},
   "source": [
    "### Inner workings of lists\n",
    "Some code has been provided for you in this exercise: a list with the name areas and a copy named areas_copy.\n",
    "\n",
    "Currently, the first element in the areas_copy list is changed and the areas list is printed out. If you hit the run code button you'll see that, although you've changed areas_copy, the change also takes effect in the areas list. That's because areas and areas_copy point to the same list.\n",
    "\n",
    "If you want to prevent changes in areas_copy from also taking effect in areas, you'll have to do a more explicit copy of the areas list with list() or by using `[:]`."
   ]
  },
  {
   "cell_type": "code",
   "execution_count": 22,
   "id": "3490d2cf",
   "metadata": {},
   "outputs": [
    {
     "name": "stdout",
     "output_type": "stream",
     "text": [
      "[11.25, 18.0, 20.0, 10.75, 9.5]\n",
      "[5.0, 18.0, 20.0, 10.75, 9.5]\n"
     ]
    }
   ],
   "source": [
    "# Change the second command, that creates the variable areas_copy, such that areas_copy is an explicit copy of areas. \n",
    "# After your edit, changes made to areas_copy shouldn't affect areas.\n",
    "\n",
    "# Create list areas\n",
    "areas = [11.25, 18.0, 20.0, 10.75, 9.50]\n",
    "\n",
    "# Create areas_copy\n",
    "areas_copy = list(areas)\n",
    "\n",
    "# Change areas_copy\n",
    "areas_copy[0] = 5.0\n",
    "\n",
    "# Print areas\n",
    "print(areas)\n",
    "print(areas_copy)"
   ]
  }
 ],
 "metadata": {
  "kernelspec": {
   "display_name": "Python 3",
   "language": "python",
   "name": "python3"
  },
  "language_info": {
   "codemirror_mode": {
    "name": "ipython",
    "version": 3
   },
   "file_extension": ".py",
   "mimetype": "text/x-python",
   "name": "python",
   "nbconvert_exporter": "python",
   "pygments_lexer": "ipython3",
   "version": "3.12.1"
  }
 },
 "nbformat": 4,
 "nbformat_minor": 5
}
