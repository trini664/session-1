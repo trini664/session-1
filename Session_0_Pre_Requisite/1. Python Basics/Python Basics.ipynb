{
 "cells": [
  {
   "cell_type": "markdown",
   "id": "1b53d797",
   "metadata": {},
   "source": [
    "### Your first Python code\n",
    "It's time to run your first Python code!\n",
    "\n",
    "Run code button to see the output."
   ]
  },
  {
   "cell_type": "code",
   "execution_count": null,
   "id": "04fdb7a5",
   "metadata": {},
   "outputs": [
    {
     "name": "stdout",
     "output_type": "stream",
     "text": [
      "0.625\n"
     ]
    }
   ],
   "source": [
    "print(5 / 8)\n",
    "\n",
    "print(7 + 10)"
   ]
  },
  {
   "cell_type": "markdown",
   "id": "3d391b8c",
   "metadata": {},
   "source": [
    "### Python as a calculator\n",
    "Python is perfectly suited to do basic calculations. It can do addition, subtraction, multiplication and division.\n",
    "\n",
    "The code in below gives some examples."
   ]
  },
  {
   "cell_type": "code",
   "execution_count": 3,
   "id": "8b52ffe4",
   "metadata": {},
   "outputs": [
    {
     "name": "stdout",
     "output_type": "stream",
     "text": [
      "11\n",
      "2\n",
      "15\n",
      "5.0\n",
      "4\n",
      "16\n",
      "32\n",
      "0\n",
      "15\n"
     ]
    }
   ],
   "source": [
    "# Addition, subtraction\n",
    "print(5 + 6)\n",
    "print(5 - 3)\n",
    "\n",
    "# Multiplication, division, modulo , and exponentiation\n",
    "print(3 * 5)\n",
    "print(10 / 2)\n",
    "print(18 % 7) \n",
    "print(4 ** 2)\n",
    "\n",
    "# Calculate two to the power of five\n",
    "print(2 ** 5)\n",
    "\n",
    "# Print the result of subtracting 5 from 5\n",
    "print(5 - 5)\n",
    "\n",
    "# Print the result of multiplying 3 by 5\n",
    "print(3 * 5)\n"
   ]
  },
  {
   "cell_type": "markdown",
   "id": "bb376aca",
   "metadata": {},
   "source": [
    "### Variable Assignment\n",
    "In Python, a variable allows you to refer to a value with a name. To create a variable `x` with a value of `5`, you use `=` like this:\n",
    "`x = 5`\n",
    "\n",
    "*Remember, in python `=` means assignment, it does not test equality*\n",
    "\n"
   ]
  },
  {
   "cell_type": "code",
   "execution_count": 4,
   "id": "5ea79a0f",
   "metadata": {},
   "outputs": [
    {
     "name": "stdout",
     "output_type": "stream",
     "text": [
      "100\n"
     ]
    }
   ],
   "source": [
    "# Create a variable savings with a vlue of 100 and print it\n",
    "savings = 100\n",
    "print(savings)"
   ]
  },
  {
   "cell_type": "markdown",
   "id": "3f5173e6",
   "metadata": {},
   "source": [
    "### Calculations with variables\n",
    "You've now created a savings variable, so let's start saving!\n",
    "\n",
    "Instead of calculating with the actual values, you can use variables instead.\n",
    "\n",
    "How much money would you have saved four months from now, if you saved $10 each month?"
   ]
  },
  {
   "cell_type": "code",
   "execution_count": 5,
   "id": "f2c22a0a",
   "metadata": {},
   "outputs": [
    {
     "name": "stdout",
     "output_type": "stream",
     "text": [
      "40\n"
     ]
    }
   ],
   "source": [
    "# Create a variable monthly_savings, equal to 10 and num_months, equal to 4\n",
    "monthly_savings = 10\n",
    "num_months = 4\n",
    "\n",
    "# Multiply monthly_savings by num_months and assign it to new_savings\n",
    "new_savings = monthly_savings * num_months\n",
    "\n",
    "# Print the value of new_savings\n",
    "print(new_savings)"
   ]
  },
  {
   "cell_type": "markdown",
   "id": "575de692",
   "metadata": {},
   "source": [
    "### Other variable types\n",
    "\n",
    "In the previous exercise, you worked with the integer Python data type:\n",
    "\n",
    "`int`, or integer: a number without a fractional part. `savings`, with the value `100`, is an example of an integer.\n",
    "\n",
    "Next to numerical data types, there are three other very common data types:\n",
    "\n",
    "`float`, or floating point: a number that has both an integer and fractional part, separated by a point. `1.1`, is an example of a `float`.\n",
    "\n",
    "`str`, or string: a type to represent text. You can use single or double quotes to build a string.\n",
    "\n",
    "`bool`, or boolean: a type to represent logical values. It can only be `True` or `False` (the capitalization is important!)."
   ]
  },
  {
   "cell_type": "markdown",
   "id": "e407ee76",
   "metadata": {},
   "source": []
  },
  {
   "cell_type": "code",
   "execution_count": 6,
   "id": "09d163e6",
   "metadata": {},
   "outputs": [],
   "source": [
    "# Create a new float, half, with the value 0.5\n",
    "half = 0.5\n",
    "\n",
    "# Create a new string, intro, with the value \"Hello! How are you?\"\n",
    "string = \"Hello! How are you?\"\n",
    "\n",
    "# Create a new boolean, is_good, with the value True\n",
    "boolean = True"
   ]
  },
  {
   "cell_type": "markdown",
   "id": "eb5fde3e",
   "metadata": {},
   "source": [
    "### Operations with other types\n",
    "Variables come in different types in Python. You can see the type of a variable by using `type()`. For example, to see type of a, execute: `type(a)`.\n",
    "\n",
    "Different types behave differently in Python. When you sum two strings, for example, you'll get different behavior than when you sum two integers or two booleans."
   ]
  },
  {
   "cell_type": "code",
   "execution_count": 8,
   "id": "5a02bbb3",
   "metadata": {},
   "outputs": [
    {
     "name": "stdout",
     "output_type": "stream",
     "text": [
      "<class 'int'>\n"
     ]
    }
   ],
   "source": [
    "# Add savings and new_savings and assign it to total_savings.\n",
    "total_savings = savings + new_savings\n",
    "\n",
    "# Use type() to print the resulting type of total_savings.\n",
    "print(type(total_savings))"
   ]
  },
  {
   "cell_type": "code",
   "execution_count": 9,
   "id": "0a614e57",
   "metadata": {},
   "outputs": [
    {
     "name": "stdout",
     "output_type": "stream",
     "text": [
      "Hello! How are you?Hello! How are you?\n"
     ]
    }
   ],
   "source": [
    "# Calculate the sum of intro and intro and assign the result to doubleintro.\n",
    "intro = \"Hello! How are you?\"\n",
    "doubleintro = intro + intro\n",
    "\n",
    "# Print out doubleintro. Did you expect this?\n",
    "print(doubleintro)"
   ]
  }
 ],
 "metadata": {
  "kernelspec": {
   "display_name": "Python 3",
   "language": "python",
   "name": "python3"
  },
  "language_info": {
   "codemirror_mode": {
    "name": "ipython",
    "version": 3
   },
   "file_extension": ".py",
   "mimetype": "text/x-python",
   "name": "python",
   "nbconvert_exporter": "python",
   "pygments_lexer": "ipython3",
   "version": "3.12.1"
  }
 },
 "nbformat": 4,
 "nbformat_minor": 5
}
