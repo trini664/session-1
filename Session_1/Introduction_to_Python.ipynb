{
 "cells": [
  {
   "cell_type": "markdown",
   "metadata": {},
   "source": [
    "# Session 1.1 : Introduction to Python\n",
    "\n",
    "_Analytics Through Coding Autumn 2025_\n",
    "\n",
    "\n",
    "---\n",
    "\n",
    "We will start introducing basic concepts of the Python programming language: syntax, calculations, variables and assignment, and conditional statements.\n",
    "\n",
    "---"
   ]
  },
  {
   "cell_type": "markdown",
   "metadata": {},
   "source": [
    "## Starting out\n",
    "\n",
    "This session assumes that you have\n",
    "* Opened the GitHub Codespace for Session 1.\n",
    "\n",
    "If you haven't already, you should open the Codespace before starting the session. \n",
    "\n",
    "In this session, we'll work through a series of small Python exercises. \n",
    "* I encourage you to chat with your colleagues and work together on the exercises.\n",
    "\n",
    "### Submission\n",
    "\n",
    "There is no submission required for exercises covered in sessions. An individual homework will become available after session 2 and a group project after session 3. \n",
    "\n",
    "### GitHub Codespaces\n",
    "\n",
    "Codespaces are a cloud-based environment for coding, provided by a *version-control* platform called GitHub. GitHub allows us to keep different versions of our code - useful for adding new features or fixing bugs. The Codespace provides us with easy access to a prepared coding enviornment, instead of having to install software locally. Files are saved automatically in the Codespace, as long as you have an active internet connection.\n",
    "\n",
    "A quick map of some important parts of the Codespace are in the image below:\n",
    "![GitHub Codespaces](codespace.png)"
   ]
  },
  {
   "cell_type": "markdown",
   "metadata": {},
   "source": [
    "## Expressions and calculations\n",
    "\n",
    "Computer programs consist of _expressions_, which tell the computer how to combine pieces of data. One common example are numerical expressions. For example, `5` is a simple numerical expression with just a single piece of data, and `2 + 3` is an addition expression that combines the data `2` and `3` using the `+` symbol. \n",
    "\n",
    "In Python, we can enter calculations directly into the console and it will display the answer. When we do so and write `2 + 3`, Python _evaluates_ this expression, and gives us the result.\n",
    "\n",
    "Let's try this out in the console. Enter each of the following commands, one at a time. Type in or copy the command, hit return, and see what happens."
   ]
  },
  {
   "cell_type": "code",
   "execution_count": null,
   "metadata": {
    "collapsed": true,
    "jupyter": {
     "outputs_hidden": true
    }
   },
   "outputs": [],
   "source": []
  },
  {
   "cell_type": "markdown",
   "metadata": {},
   "source": [
    "Python calculations follow standard precedence order of arithmetic, where multiplication and division are evaluated before addition and subtraction. We can use parentheses to alter the order of precedence, as follows."
   ]
  },
  {
   "cell_type": "code",
   "execution_count": null,
   "metadata": {
    "collapsed": true,
    "jupyter": {
     "outputs_hidden": true
    }
   },
   "outputs": [],
   "source": []
  },
  {
   "cell_type": "markdown",
   "metadata": {},
   "source": [
    "<div class=\"alert alert-warning\">\n",
    "<b>Syntax note.</b> Let's note some important features of the Python syntax from the above examples.\n",
    "<ul>\n",
    "  <li>Hitting return ends the current line of code. This signals to the Python interpreter that our command has ended. The interpreter will then process the command and move on.  </li>\n",
    "  <li>Spaces in the calculations are optional and do not change the result. Using spaces often makes code easier to read. More specifically, the Python interpreter does not care about whitespace <i>unless</i> it is in the <i>beginning</i> of the line, as we will see later in this session.\n",
    "</li>\n",
    "  <li>The interpreter will skip anything that follows a <code>#</code> sign. We often use this to add comments in our code to describe to a human reader how it works. </li>\n",
    "</ul>\n",
    "\n",
    "\n",
    "\n",
    "</div>"
   ]
  },
  {
   "cell_type": "markdown",
   "metadata": {},
   "source": [
    "The common arithmetic operations in Python are as follows.\n",
    "\n",
    "| Operator     | Name           | Description                                            |\n",
    "|--------------|----------------|--------------------------------------------------------|\n",
    "| ``a + b``    | Addition       | Sum of ``a`` and ``b``                                 |\n",
    "| ``a - b``    | Subtraction    | Difference of ``a`` and ``b``                          |\n",
    "| ``a * b``    | Multiplication | Product of ``a`` and ``b``                             |\n",
    "| ``a / b``    | Division  | Quotient of ``a`` and ``b``                            |\n",
    "| ``a // b``   | Floor division | Quotient of ``a`` and ``b``, removing fractional parts |\n",
    "| ``a % b``    | Modulus        | Remainder after division of ``a`` by ``b``     |\n",
    "| ``a ** b``   | Exponentiation | ``a`` to the power of ``b``                     |\n",
    "\n",
    "What would you expect the following commands do? Check your intuition with the console."
   ]
  },
  {
   "cell_type": "code",
   "execution_count": null,
   "metadata": {
    "collapsed": true,
    "jupyter": {
     "outputs_hidden": true
    }
   },
   "outputs": [],
   "source": []
  },
  {
   "cell_type": "markdown",
   "metadata": {},
   "source": [
    "Dividing by zero will produce an error."
   ]
  },
  {
   "cell_type": "code",
   "execution_count": null,
   "metadata": {},
   "outputs": [],
   "source": []
  },
  {
   "cell_type": "markdown",
   "metadata": {},
   "source": [
    "<div class=\"alert alert-warning\">\n",
    "<b>Note.</b> A Python error message indicates the error's type and where in your code the error happened. This will prove useful later when building larger programs.\n",
    "</div>\n",
    "\n",
    "We now know enough Python to replace a pocket calculator. "
   ]
  },
  {
   "cell_type": "markdown",
   "metadata": {},
   "source": [
    "## Variables and assignment\n",
    "\n",
    "We have seen how to use Python for simple calculations. But these have been one-off calculations - what if we want to keep the results for later use in more complex calculations?\n",
    "\n",
    "We can do this defining variables. A variable is a name we give to a value. For example, suppose we want to calculate the area of a rectangle. Let's begin by typing the following two commands into the console."
   ]
  },
  {
   "cell_type": "code",
   "execution_count": null,
   "metadata": {
    "collapsed": true,
    "jupyter": {
     "outputs_hidden": true
    }
   },
   "outputs": [],
   "source": []
  },
  {
   "cell_type": "markdown",
   "metadata": {},
   "source": [
    "We give a _value_ (eg `7`) a name (eg `width`) by _assigning_ it to a named _variable_  using the equals sign `=`. This is called an assignment statement. Python now knows that variables `width` and `length` contain these values, so we can use the variable name in place of the value. \n",
    "\n",
    "When you type in the commands, there's no output in the console, since the variables are stored for reuse. We can check that the names are bound to these values by typing `width` or `length` into the console. "
   ]
  },
  {
   "cell_type": "markdown",
   "metadata": {},
   "source": [
    "Now let's calculate the area of the rectangle, which is the product of the width and the length. We could do this with the values `7 * 3`, or the variable names `width * length` ."
   ]
  },
  {
   "cell_type": "code",
   "execution_count": null,
   "metadata": {
    "collapsed": true,
    "jupyter": {
     "outputs_hidden": true
    }
   },
   "outputs": [],
   "source": []
  },
  {
   "cell_type": "markdown",
   "metadata": {},
   "source": [
    "Here we take the values stored in the variables `width` and `length` and save the result of their multiplication to a new variable `area`. When making an assignment, the Python interpreter will first _evaluate_ the expression is on the right-hand side of the equals sign (here `width * length`), and then store its value associated with the variable on the left-hand side (here `area`). Here, the expression `width * length` evaluates to 21, which will be the value of the variable `area`. \n",
    "\n",
    "The assignment statement is always of the form:\n",
    "\n",
    "```\n",
    "variable = expression\n",
    "```\n",
    "\n",
    "The left-hand side of the assignment must always be a variable that will be assigned a value. \n",
    "\n",
    "Variables are called variables because their value can change. Assigning a value to a variable that already exists does not create a new variable, but replaces the existing value of the variable."
   ]
  },
  {
   "cell_type": "code",
   "execution_count": null,
   "metadata": {},
   "outputs": [],
   "source": []
  },
  {
   "cell_type": "markdown",
   "metadata": {},
   "source": [
    "The right-hand side of the assignment can be any expression. Python first evaluates this expression, stores the resulting value in the computer's memory, and assigns the variable temp to it. "
   ]
  },
  {
   "cell_type": "code",
   "execution_count": null,
   "metadata": {},
   "outputs": [],
   "source": []
  },
  {
   "cell_type": "markdown",
   "metadata": {},
   "source": [
    "The left-hand side must always be a variable that will be assigned a value.\n",
    "\n",
    "Here's another example of assignment. We first create the variables `x` and `y`, and then change the value of `x`, but this time *referring to itself*. Just like before, Python first evaluates first evaluates the expression on the right-hand side of the equals sign. It looks up the values contained in the variables `x` and `y` , finding 5 and 3. It sums these values, and assigns the variable `x` to the result."
   ]
  },
  {
   "cell_type": "code",
   "execution_count": null,
   "metadata": {},
   "outputs": [],
   "source": []
  },
  {
   "cell_type": "markdown",
   "metadata": {},
   "source": [
    "Here's [a link to an example visualisation](http://pythontutor.com/visualize.html#code=x%20%3D%205%0Ay%20%3D%203%0Ax%20%3D%20x%20%2B%20y%0Ax&cumulative=false&curInstr=0&heapPrimitives=false&mode=display&origin=opt-frontend.js&py=3&rawInputLstJSON=%5B%5D&textReferences=false) of how this works, using Python Tutor, which helps visualise the steps taken when code runs."
   ]
  },
  {
   "cell_type": "markdown",
   "metadata": {},
   "source": [
    "You can use the visualisation to step back and forth in the commands. A \"frame\" is essentially a table of variables and values available in Python, which changes as we enter commands. Notice how the value of `x` changes with each new assignment. On the last line, Python first evaluates the expression `x + y`, and then assigns the result to `x`.   \n",
    "\n",
    "If we try to reference a variable that we haven't assigned, Python gives an error message. There are also certain restrictions on variable names in Python. You can only use letters, numbers, and underscores, and the name cannot start with a number. Python will give you an error if these syntax rules are violated. Names cannot have spaces in them, and there are some keywords that are reserved for Python's use. In each case, Python tells us what went wrong."
   ]
  },
  {
   "cell_type": "code",
   "execution_count": null,
   "metadata": {},
   "outputs": [],
   "source": []
  },
  {
   "cell_type": "code",
   "execution_count": null,
   "metadata": {},
   "outputs": [],
   "source": []
  },
  {
   "cell_type": "code",
   "execution_count": null,
   "metadata": {},
   "outputs": [],
   "source": []
  },
  {
   "cell_type": "code",
   "execution_count": null,
   "metadata": {},
   "outputs": [],
   "source": []
  },
  {
   "cell_type": "markdown",
   "metadata": {},
   "source": [
    "### Displaying output\n",
    "\n",
    "Besides calling variables in the console, another useful way of displaying their values is using the built-in `print` function. It displays the value of the expression we place inside the following parenthesis. Try the following in the console.\n",
    "\n",
    "```python\n",
    "width = 7\n",
    "print(width)\n",
    "print(2*width)\n",
    "```\n",
    "\n",
    "The keyword `print` is the name of a function, an action that Python recognizes. We will return to functions shortly.  \n",
    "\n",
    "This way of selectively displaying information will prove very useful when we start writing longer programs."
   ]
  },
  {
   "cell_type": "markdown",
   "metadata": {},
   "source": [
    "## Handling text\n",
    "\n",
    "We now know how to store the values of our calculations. To take another step beyond a simple pocket calculator, we can also work with non-numerical data, such as text. In programming, we refer to text data as **strings**, as in strings of characters.\n",
    "\n",
    "We already saw some strings in Tutorial 0, when we used the following commands:"
   ]
  },
  {
   "cell_type": "code",
   "execution_count": null,
   "metadata": {
    "collapsed": true,
    "jupyter": {
     "outputs_hidden": true
    }
   },
   "outputs": [],
   "source": []
  },
  {
   "cell_type": "markdown",
   "metadata": {},
   "source": [
    "The two commands display different results. The first is the result of the calculation as expected, but Python interprets the second as a **string** of characters because we entered it within quotes. That is precisely what a string is: a collection of characters within quotation marks, where the characters can be anything: numbers, letters, or other characters.\n",
    "\n",
    "We can define strings using either single or double quotes. \n",
    "\n",
    "Type the following into the console:"
   ]
  },
  {
   "cell_type": "code",
   "execution_count": null,
   "metadata": {
    "collapsed": true,
    "jupyter": {
     "outputs_hidden": true
    }
   },
   "outputs": [],
   "source": []
  },
  {
   "cell_type": "markdown",
   "metadata": {},
   "source": [
    "In order to return the value of `x`, type `x` into the console. Next type `print(x)`. Notice a small difference in what the console displays. Typing in the variable name retrieves its *value*, a string with quotation marks. Printing it strips away the quotation marks and displays only the *content* of the string.\n",
    "\n",
    "Look at the code example below. What would you expect the value of `z` to be? Check your guess by typing the statements into the console one by one."
   ]
  },
  {
   "cell_type": "code",
   "execution_count": null,
   "metadata": {
    "collapsed": true,
    "jupyter": {
     "outputs_hidden": true
    }
   },
   "outputs": [],
   "source": []
  },
  {
   "cell_type": "markdown",
   "metadata": {},
   "source": [
    "You have seen an interesting feature of Python: we can \"add\" together not just numbers, but strings too in a simple way.\n",
    "\n",
    "What happens if you try `x*3`? What does the multiplication do? \n",
    "\n",
    "Some characters cannot be directly used in strings. For example, we cannot use the single quote character `'` within a string defined by single quotes, as the string would end prematurely: try `s = 'Kafka's book'`. If we want to do so, we can use a backslash before them, as in `'Kafka\\'s book'`, or double quotes, as in `\"Kafka's book\"`. "
   ]
  },
  {
   "cell_type": "code",
   "execution_count": null,
   "metadata": {},
   "outputs": [],
   "source": []
  },
  {
   "cell_type": "markdown",
   "metadata": {},
   "source": [
    "<div class=\"alert alert-warning\">\n",
    "    <b>Note.</b> In programming lingo, <code>\\'</code> is known as an <i>escape character</i>. The backslash tells Python that the following <code>'</code> character has a special meaning, so Python does not interpret it in the usual way as starting or ending a string. Another example of escape characters is inserting a line break in text with the character <code>\\n</code>. Again the backslash tells Python that the following <code>n</code> character has the special meaning of adding a line break.\n",
    "</div>\n",
    "\n",
    "We can also create multiline strings using triple quotes:"
   ]
  },
  {
   "cell_type": "code",
   "execution_count": null,
   "metadata": {},
   "outputs": [],
   "source": []
  },
  {
   "cell_type": "code",
   "execution_count": null,
   "metadata": {},
   "outputs": [],
   "source": []
  },
  {
   "cell_type": "markdown",
   "metadata": {},
   "source": [
    "## Objects, types, and built-in functions\n",
    "\n",
    "We began this session by working on numerical calculations and then moved on to strings. In Python lingo, we call strings and numbers - and anything else we can manipulate - **objects**. Objects come in many different forms, and what we can do with them depends on the **type** of the object. For example, above we saw that Python knows to \"add\" together numbers and strings in different ways. \n",
    "\n",
    "We can find out the type of an object using the built-in function `type()`. To see how it works, try the following code in the console."
   ]
  },
  {
   "cell_type": "code",
   "execution_count": null,
   "metadata": {
    "collapsed": true,
    "jupyter": {
     "outputs_hidden": true
    }
   },
   "outputs": [],
   "source": []
  },
  {
   "cell_type": "markdown",
   "metadata": {},
   "source": [
    "Notice the difference between the last two. Python distinguishes between integer-valued numbers and decimals, which are called _floating-point numbers_ or _floats_.  \n",
    "\n",
    "Let’s see what happens when we try to combine a number in string form with an integer. Type the following in the console:"
   ]
  },
  {
   "cell_type": "code",
   "execution_count": null,
   "metadata": {
    "collapsed": true,
    "jupyter": {
     "outputs_hidden": true
    }
   },
   "outputs": [],
   "source": []
  },
  {
   "cell_type": "markdown",
   "metadata": {},
   "source": [
    "This will cause a `TypeError`. In order to be able to add the two together, we need to convert one. \n",
    "\n",
    "Try out the following code in the console."
   ]
  },
  {
   "cell_type": "code",
   "execution_count": null,
   "metadata": {
    "collapsed": true,
    "jupyter": {
     "outputs_hidden": true
    }
   },
   "outputs": [],
   "source": []
  },
  {
   "cell_type": "markdown",
   "metadata": {},
   "source": [
    "Python conveniently converts the string into an integer using the `int()` function. Similarly, we can convert a string to a float, or a number to a string using the functions `float()` and `str()`. With these procedures, we can often change the type of one an object to another one. (Sometimes it doesn't work and Python will tell us so.) \n",
    "\n",
    "Let's see in some more detail what happens when we use a function with another type conversion example."
   ]
  },
  {
   "cell_type": "code",
   "execution_count": null,
   "metadata": {
    "collapsed": true,
    "jupyter": {
     "outputs_hidden": true
    }
   },
   "outputs": [],
   "source": []
  },
  {
   "cell_type": "markdown",
   "metadata": {},
   "source": [
    "This is an _expression_, like `3+4`, but of a different kind: a _call expression_. A call expression applies a Python function to an argument. A function in Python is similar to a function mathematics in that it _maps an input argument into an output value_. Here, the function `int` is applied to the argument within parenthesis, `3.5`. The output value of the evaluated expression is in this case `3`, the integer part of `3.5`.\n",
    "\n",
    "The functions above are just a few of Python's many built-in functions. Here are some common functions; try them out in the console. "
   ]
  },
  {
   "cell_type": "code",
   "execution_count": null,
   "metadata": {
    "collapsed": true,
    "jupyter": {
     "outputs_hidden": true
    }
   },
   "outputs": [],
   "source": []
  },
  {
   "cell_type": "markdown",
   "metadata": {},
   "source": [
    "Each of these functions can be used to assign the output value to a variable:"
   ]
  },
  {
   "cell_type": "code",
   "execution_count": null,
   "metadata": {
    "collapsed": true,
    "jupyter": {
     "outputs_hidden": true
    }
   },
   "outputs": [],
   "source": []
  },
  {
   "cell_type": "markdown",
   "metadata": {},
   "source": [
    "Notice that the `print` function appears similar to the above functions, but works slightly differently. It is used to _display_ the input argument, but does not provide it as output. The output of the `print` function is always the special value `None`, which represents \"nothing\"."
   ]
  },
  {
   "cell_type": "code",
   "execution_count": null,
   "metadata": {},
   "outputs": [],
   "source": []
  },
  {
   "cell_type": "markdown",
   "metadata": {},
   "source": [
    "We'll see many more functions in the coming sessions, and also learn to define our own functions."
   ]
  },
  {
   "cell_type": "markdown",
   "metadata": {},
   "source": [
    "<div class=\"alert alert-info\">\n",
    "<b>Advanced.</b> If you're coming from another programming language, you may have been surprised that Python lets us define variables without first specifying their types. The technical term for this is that Python is a <i>dynamically-typed</i> language. Other popular languages, such as Java, require <i>static</i> typing, meaning the type of a variable must be declared before assignment. Lots of discussions have been had over the relative merits of these approaches, but both can be used to write useful programs.   \n",
    "</div>"
   ]
  },
  {
   "cell_type": "markdown",
   "metadata": {},
   "source": [
    "## Comparisons and conditional statements\n",
    "\n",
    "We often want to have our program do one thing if some condition is true, and another if it's false. For example, we might only want to only use data from the past year in a calculation, or only save data of tweets from people with many followers on Twitter.\n",
    "\n",
    "We do these kind of things in Python using comparisons. A comparison compares two objects, and gives a result that is always either `True` or `False`. In other words, the result is a **Boolean** expression. Along with integers, floats, and strings, Booleans are another type of Python object we will be using a lot.\n",
    "\n",
    "Let us try some comparisons in the console."
   ]
  },
  {
   "cell_type": "code",
   "execution_count": null,
   "metadata": {
    "collapsed": true,
    "jupyter": {
     "outputs_hidden": true
    }
   },
   "outputs": [],
   "source": []
  },
  {
   "cell_type": "markdown",
   "metadata": {},
   "source": [
    "Try also `type(1>2)`: you will see that the type is `bool` (Boolean). \n",
    "\n",
    "The Boolean values `True` and `False` correspond to `1` and `0` respectivelly. In the console, try out:"
   ]
  },
  {
   "cell_type": "code",
   "execution_count": null,
   "metadata": {
    "collapsed": true,
    "jupyter": {
     "outputs_hidden": true
    }
   },
   "outputs": [],
   "source": []
  },
  {
   "cell_type": "markdown",
   "metadata": {},
   "source": [
    "Python has a number of operators for making comparisons. Here are some common ones we will often use:\n",
    "\n",
    "| Operation     | Description                       |\n",
    "|---------------|-----------------------------------|\n",
    "| ``a == b``    | ``a`` equal to ``b``              |\n",
    "| ``a != b``    | ``a`` not equal to ``b``             |\n",
    "| ``a < b``     | ``a`` less than ``b``             |\n",
    "| ``a > b``     | ``a`` greater than ``b``             |\n",
    "| ``a <= b``    | ``a`` less than or equal to ``b`` |\n",
    "| ``a >= b``    | ``a`` greater than or equal to ``b`` |\n",
    "\n",
    "\n",
    "\n",
    "We can reverse a comparison by using the keyword `not`. Try out in the console"
   ]
  },
  {
   "cell_type": "code",
   "execution_count": null,
   "metadata": {
    "collapsed": true,
    "jupyter": {
     "outputs_hidden": true
    }
   },
   "outputs": [],
   "source": []
  },
  {
   "cell_type": "markdown",
   "metadata": {},
   "source": [
    "On the last line, `a==b` first evaluates to `True`, and `not` then reverses this.\n",
    "\n",
    "Boolean expressions can also be combined using the operators `and` and `or`."
   ]
  },
  {
   "cell_type": "code",
   "execution_count": null,
   "metadata": {
    "collapsed": true,
    "jupyter": {
     "outputs_hidden": true
    }
   },
   "outputs": [],
   "source": []
  },
  {
   "cell_type": "markdown",
   "metadata": {},
   "source": [
    "### Conditional statements\n",
    "\n",
    "Why do we care about Boolean expressions? The reason is that they add a new capability to our code: we can now make **choices** using _conditional statements_. That is, we can tell our program to do one thing if a condition is `True` and another if it is `False`. This tremendously increases our options in building programs that can take different paths. Whenever a computer program appears to make smart decisions, there are typically conditional statements behind it. \n",
    "\n",
    "This is done using conditional `if` statements. Here is an example of an `if` statement that prints out information depending on the value of the variable `rainfall`."
   ]
  },
  {
   "cell_type": "code",
   "execution_count": null,
   "metadata": {},
   "outputs": [],
   "source": []
  },
  {
   "cell_type": "markdown",
   "metadata": {},
   "source": [
    "The statement consists of a *condition* and a *body block*. The condition here is an expression that checks whether the value of rainfall is greater than 0.5. This evaluates to a Boolean value True or False. If the condition is true, the statements in the body block are executed. Otherwise they are skipped. The execution of this programme thus depends on the value of the variable rainfall.\n",
    "\n",
    "Here's a [visualisation](http://pythontutor.com/visualize.html#code=rainfall%20%3D%202%0Aif%20rainfall%20%3E%200.5%3A%0A%20%20%20%20print%28'It%20will%20likely%20rain%20'%20%2B%20str%28rainfall%29%20%2B%20'%20millimeters.'%29%0A%20%20%20%20print%28'Bring%20an%20umbrella!'%29&cumulative=false&curInstr=0&heapPrimitives=false&mode=display&origin=opt-frontend.js&py=3&rawInputLstJSON=%5B%5D&textReferences=false) of how the the above code works. The indented lines following the `if` statement are only evaluated if the condition evaluates to `True`. Otherwise, Python will skip these lines."
   ]
  },
  {
   "cell_type": "markdown",
   "metadata": {},
   "source": [
    "<div class=\"alert alert-warning\">\n",
    "<b>Syntax note.</b>\n",
    "When writing <code>if</code> statements, we need to be very careful with syntax. Generally, it looks like this:\n",
    "<code>\n",
    "if condition:\n",
    "    statements to evaluate if condition is True\n",
    "</code>\n",
    "\n",
    "<ul>\n",
    "<li> The line with the <code>if</code> statement <b>ends with a colon</b>. This is mandatory. It tells Python that the condition ends there.\n",
    "<li> The following code is <b>indented by four spaces</b>. This is also mandatory - conveniently, VS Code does it automatically for us when we press the Tab key. The indentation tells Python that all indented lines that directly follow the colon should be evaluated if the condition is <code>True</code>. We often call the group of indented lines a <i>code block</i>. \n",
    "</ul>\n",
    "\n",
    "Both of these syntax features are essential to Python, and we will run into them many times during the module. \n",
    "</div>"
   ]
  },
  {
   "cell_type": "markdown",
   "metadata": {},
   "source": [
    "The `if` statement is a *decision structure*: it allows the program to make decisions based on data. Instead of simply running through every line from top to bottom, the program can now branch in different directions, for example based on user input. In our example, if the rainfall condition is satisfied, the program branches into the conditional block. Otherwise, it jumps to evaluating the next line, here another print statement."
   ]
  },
  {
   "cell_type": "code",
   "execution_count": null,
   "metadata": {},
   "outputs": [],
   "source": []
  },
  {
   "cell_type": "markdown",
   "metadata": {},
   "source": [
    "What if we want to print a different message if the day is not rainy? We can do so using an `else` statement. We specify another block of statements that will be executed if and only if the condition is `False`."
   ]
  },
  {
   "cell_type": "code",
   "execution_count": null,
   "metadata": {
    "collapsed": true,
    "jupyter": {
     "outputs_hidden": true
    }
   },
   "outputs": [],
   "source": []
  },
  {
   "cell_type": "markdown",
   "metadata": {},
   "source": [
    "Notice the `else` statement again requires the **colon** and exactly **four spaces** for the following statement(s). Note also that there may be multiple lines of code that are executed given a condition, all of which need to be indented.\n",
    "\n",
    "We can also go through several cases of a condition using `elif`, short for \"else if\". Think about how the below code snippet would work, and check your understanding in VS Code."
   ]
  },
  {
   "cell_type": "code",
   "execution_count": null,
   "metadata": {
    "collapsed": true,
    "jupyter": {
     "outputs_hidden": true
    }
   },
   "outputs": [],
   "source": []
  },
  {
   "cell_type": "markdown",
   "metadata": {},
   "source": [
    "We can also combine different conditions to create _nested_ statements. For example, if we care about both the temperature and humidity:"
   ]
  },
  {
   "cell_type": "code",
   "execution_count": null,
   "metadata": {
    "collapsed": true,
    "jupyter": {
     "outputs_hidden": true
    }
   },
   "outputs": [],
   "source": []
  },
  {
   "cell_type": "markdown",
   "metadata": {},
   "source": [
    "The second `print` statement only gets evaluated if both of the conditions are `True`. \n",
    "\n",
    "How we use conditionals depends on how we want to structure the decisions that the program takes. What is the difference of the above code with the one below?"
   ]
  },
  {
   "cell_type": "code",
   "execution_count": null,
   "metadata": {},
   "outputs": [],
   "source": []
  },
  {
   "cell_type": "markdown",
   "metadata": {},
   "source": [
    "## Iteration using loops\n",
    "\n",
    "We often want to repeat actions in our programs. For example, we may want to read the data from several files to produce plots for a report; we may want to calculate investment returns for many different assets; or we may scrape through the pages of a website. In all these cases, repeatedly performing calculations or other statements would quickly become tedious. Instead, we use _iteration_ mechanisms (also called _loops_) which allow us to repeatedly execute statements. \n",
    "\n",
    "Python has two main methods for iteration: `while loops` and `for loops`.\n",
    "\n",
    "Repeating tasks is a common task in our programs. Suppose we want our program print the squared values of the integers from 1 through 5. We know how to do this:"
   ]
  },
  {
   "cell_type": "code",
   "execution_count": null,
   "metadata": {},
   "outputs": [],
   "source": [
    "print(1**2)\n",
    "print(2**2)\n",
    "print(3**2)\n",
    "print(4**2)\n",
    "print(5**2)"
   ]
  },
  {
   "cell_type": "markdown",
   "metadata": {},
   "source": [
    "It works but it is cumbersome, especially if we need to calculate more values. Instead, we will use iteration with a while loop. The structure of a while loop is as follows:\n",
    "```python\n",
    "while condition:\n",
    "    statement # loop body statements\n",
    "    statement \n",
    "    etc.\n",
    "```\n",
    "\n",
    "The while loop looks very much like an if statement. It begins with the evaluation of a `condition`. If the condition is  `True`, Python executes the loop \"body\" statements once. It then goes back to evaluate the `condition` a second time. Python repeats this process until the test evaluates to `False`, after which the program execution moves to the next line following the loop.\n",
    "\n",
    "The repeated code block may include one or multiple lines of code. Notice how the syntax closely resembles that of the `if` statement. We again use a colon after the condition, and indentation to distinguish the block of lines to be executed repeatedly. These should be indented by exactly four spaces (in VS Code, use the Tab key).\n",
    "\n",
    "Let's use this to solve calculate the squares."
   ]
  },
  {
   "cell_type": "code",
   "execution_count": null,
   "metadata": {},
   "outputs": [],
   "source": []
  },
  {
   "cell_type": "markdown",
   "metadata": {},
   "source": [
    "The two indented lines of code are repeated as long as the condition `i <= 5` is satisfied. As each iteration of the loop increases the value of i by one, the loop exits after five iterations, and execution moves on. \n",
    "\n",
    "The example shows three key components of while loops: initialization, condition, and incrementing. We set the initial value of `i` to 1, where we wish to start printing. We then set the condition to stop the evaluation once we hit 5. Finally, we increment the value of i within the loop so that it goes through all integers up to 5. This is important: if we omitted the increment, the loop would run infinitely as the condition would always be satisfied. If you run into this problem with your code in VS Code, use the key combination `Cmd + C` to quit the loop execution.\n",
    "\n",
    "#### We could also use a `for loop` to do the same task\n",
    "It works the same way as the while loop example, but here Python automatically handles the initialization, condition, and increment. The for loop is structured as follows:\n",
    "\n",
    "```python\n",
    "for variable in sequence:\n",
    "    statement   # loop body statements\n",
    "    etc.\n",
    "```"
   ]
  },
  {
   "cell_type": "code",
   "execution_count": null,
   "metadata": {},
   "outputs": [],
   "source": [
    "\n"
   ]
  },
  {
   "cell_type": "markdown",
   "metadata": {},
   "source": [
    "It works the same way as the while loop example, but here Python automatically handles the initialization, condition, and increment. \n",
    "The loop begins by taking the first value from the sequence and assigning it to the loop variable (i in this case). The loop body is then executed once. Python continues with the next value in the sequence, repeating until all values have been used.\n",
    "\n",
    "### For Loop vs While Loop\n",
    "\n",
    "| Feature | **For Loop** | **While Loop** |\n",
    "|---------|--------------|----------------|\n",
    "| **When to use** | When the **number of iterations is known** or you are iterating over a sequence (e.g., list, string, range). | When the **number of iterations is not known in advance**, and you loop until a condition becomes false. |\n",
    "| **Structure** | `for variable in sequence:` <br> → Iterates directly over a sequence (e.g., `range(1,6)`). | `while condition:` <br> → Repeats as long as the condition remains `True`. |\n",
    "| **Initialization & Increment** | Handled **automatically** by the loop (via sequence or `range`). | Must be done **manually**: initialize variable before loop, update inside loop. |\n",
    "| **Risk of Infinite Loop** | Very low (loop ends when sequence ends). | Higher risk if the condition never becomes `False` (e.g., forgetting to increment). |\n",
    "| **Typical Use Cases** | Iterating over arrays, lists, strings, ranges, datasets. | Repeating until a condition is met (e.g., waiting for user input, running until error < threshold). |\n"
   ]
  },
  {
   "cell_type": "markdown",
   "metadata": {},
   "source": [
    "## All done!\n",
    "\n",
    "That's the end of the main part of the session. You can review material and find optional extra exercises below.\n",
    "\n",
    "\n",
    "## Syntax roundup\n",
    "\n",
    "We've now seen many important features of Python's syntax. Consider the following code examples."
   ]
  },
  {
   "cell_type": "code",
   "execution_count": null,
   "metadata": {},
   "outputs": [],
   "source": [
    "print('Hello, again!') # Displays the stuff within parentheses\n",
    "print((2 + 5)*2)\n",
    "print((2+5)*2)"
   ]
  },
  {
   "cell_type": "code",
   "execution_count": null,
   "metadata": {},
   "outputs": [],
   "source": [
    "x = 5\n",
    " print(2*x)"
   ]
  },
  {
   "cell_type": "code",
   "execution_count": null,
   "metadata": {},
   "outputs": [],
   "source": [
    "if 2 > 1:\n",
    "    print('Hey!')"
   ]
  },
  {
   "cell_type": "markdown",
   "metadata": {},
   "source": [
    "These commands illustrate some key rules of Python syntax:\n",
    "* **End of the line terminates a statement.** That is, whenever we finish the line, the Python interpreter executes that line's contents as a command and moves on to the next line.\n",
    "* **Parenthesis are used for calling Python functions**, such as `print()`, **or grouping**, as in the calculations above,\n",
    "* **The hash sign `#` denotes a comment.** The Python interpreter will ignore everything on a line after a hash sign.\n",
    "* **Whitespace *within the line* has no effect on the execution**, as we can see from the two calculations. Using spaces in formulas can be helpful to make the code readable.\n",
    "* **Whitespace *in the beginning of the line* matters a lot.** In one of the examples above, there was an extra space in our calculation, which caused an error with Python. Helpfully, Python calls this an `IndentationError`, so we know that the indentation was wrong. Indentation matters because Python uses it to determine which parts of the code are part of blocks such as `if` statements. We indent them by exactly four spaces, which VS Code will add when you press the **Tab** key. The colon sign `:` is used to denote the beginning of such an indented block.\n",
    "\n",
    "## Error roundup\n",
    "\n",
    "By now, you have seen a few types of errors in code. Here are some of the more common ones:\n",
    "* `SyntaxError`: an error in Python syntax, for example in the code: \n",
    "```\n",
    "my name = 'John'\n",
    "```\n",
    "* `TypeError` - for example, combining wrong type of data, for example  `1/'2'`\n",
    "* `IndentationError` - a line of code, such as an `if` statement, does not follow the Python rules of indentation\n",
    "* `NameError` - for example, trying to get the value of a variable that hasn't been defined\n",
    "* `ValueError` - for example, using an invalid value in a function: `int('a')`\n",
    "\n",
    "## Review questions\n",
    "\n",
    "How would you explain the following to your neighbour?\n",
    "* What are strings, integers, and floats?\n",
    "* What are variables and assignment statements?\n",
    "* What is a Boolean expression?\n",
    "* What are conditional statements? How do they work in Python? What are the syntax rules for them?\n",
    "* What is the difference between working in the editor and console?"
   ]
  }
 ],
 "metadata": {
  "kernelspec": {
   "display_name": "Python 3",
   "language": "python",
   "name": "python3"
  },
  "language_info": {
   "codemirror_mode": {
    "name": "ipython",
    "version": 3
   },
   "file_extension": ".py",
   "mimetype": "text/x-python",
   "name": "python",
   "nbconvert_exporter": "python",
   "pygments_lexer": "ipython3",
   "version": "3.12.1"
  }
 },
 "nbformat": 4,
 "nbformat_minor": 4
}
