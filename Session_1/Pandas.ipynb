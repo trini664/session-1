{
 "cells": [
  {
   "cell_type": "markdown",
   "id": "2af4cf76",
   "metadata": {},
   "source": [
    "# Pandas for Data Analysis"
   ]
  },
  {
   "cell_type": "markdown",
   "id": "ab3d3445",
   "metadata": {},
   "source": [
    "[**Pandas**](https://pandas.pydata.org/) is a fast, powerful, flexible and easy to use open source data analysis and manipulation tool,\n",
    "built on top of the Python programming language.\n",
    "\n",
    "We will first introduce some core aspects of pandas using toy data, and then analyse a real data set. First, we should import the pandas package - by convention we give it a shorthand name using `as`. When we want to use the package, we can type `pd.` instead of `pandas.`. \n",
    "\n",
    "#### Useful links\n",
    "* [Data Wrangling cheat sheet](https://pandas.pydata.org/Pandas_Cheat_Sheet.pdf)\n",
    "* [Python For Data Science cheat sheet](https://www.utc.fr/~jlaforet/Suppl/python-cheatsheets.pdf)"
   ]
  },
  {
   "cell_type": "code",
   "execution_count": null,
   "id": "a86235d0",
   "metadata": {},
   "outputs": [],
   "source": []
  },
  {
   "cell_type": "markdown",
   "id": "9ed9c198",
   "metadata": {},
   "source": [
    "### Creating and Reading Data\n",
    "\n",
    "Two core objects in pandas: **Series** and **DataFrame**.\n",
    "\n",
    "[**Series**](https://pandas.pydata.org/pandas-docs/stable/reference/api/pandas.Series.html) is a one-dimensional (1d) *list* of values. It has a corresponding list of *index* and (possibly) a *name*."
   ]
  },
  {
   "cell_type": "code",
   "execution_count": null,
   "id": "33bc6056",
   "metadata": {},
   "outputs": [],
   "source": [
    "pd.Series([3780, 4120, 4750], index=[2020,2021,2022], name='sales')"
   ]
  },
  {
   "cell_type": "markdown",
   "id": "30df73a9",
   "metadata": {},
   "source": [
    "[**DataFrame**](https://pandas.pydata.org/docs/reference/api/pandas.DataFrame.html#pandas.DataFrame) is a two-dimensional (2d) *table* of values. Each row is a \"record\" having its *index* and each column is a **Series** having its (column) *name*."
   ]
  },
  {
   "cell_type": "code",
   "execution_count": null,
   "id": "c86648b4",
   "metadata": {},
   "outputs": [],
   "source": [
    "df = pd.DataFrame({'date': pd.date_range('31/05/2022', periods=5, freq='ME'), # freq='ME' means month end frequency\n",
    "                   'sales': [300.12, 313.28, 330.64, 347.59, 352.11],\n",
    "                   'department': 'domestic'})\n",
    "df"
   ]
  },
  {
   "cell_type": "markdown",
   "id": "a1fa4c33",
   "metadata": {},
   "source": [
    "**Checking the DataFrame index**\n",
    "\n",
    "- The index is how Pandas labels and organizes the rows in your DataFrame.\n",
    "- Knowing the index is important because it tells you how you can access, align, or join your data.\n"
   ]
  },
  {
   "cell_type": "code",
   "execution_count": null,
   "id": "12abab4d",
   "metadata": {},
   "outputs": [],
   "source": []
  },
  {
   "cell_type": "markdown",
   "id": "156d2223",
   "metadata": {},
   "source": [
    "**Setting a column as the index**\n",
    "- Makes it easier to work with time series data, since dates are now row labels."
   ]
  },
  {
   "cell_type": "code",
   "execution_count": null,
   "id": "2b436e9d",
   "metadata": {},
   "outputs": [],
   "source": []
  },
  {
   "cell_type": "markdown",
   "id": "66dc2c79",
   "metadata": {},
   "source": [
    "**We can also reset the index**"
   ]
  },
  {
   "cell_type": "code",
   "execution_count": null,
   "id": "39dfc3d5",
   "metadata": {},
   "outputs": [],
   "source": []
  },
  {
   "cell_type": "markdown",
   "id": "85e8753b",
   "metadata": {},
   "source": [
    "**Checking the Datafram columns**\n",
    "- Lists all column labels in the DataFrame.\n",
    "- Useful for quickly checking the structure of your dataset."
   ]
  },
  {
   "cell_type": "code",
   "execution_count": null,
   "id": "7dc78be3",
   "metadata": {},
   "outputs": [],
   "source": []
  },
  {
   "cell_type": "markdown",
   "id": "baf73d3b",
   "metadata": {},
   "source": [
    "### Exercise\n",
    "\n",
    "1. Create a dataframe called sales that matches the diagram below\n",
    "\n",
    "| week       | electronics_sales | furniture_sales |\n",
    "|------------|-------------------|-----------------|\n",
    "| 2022-06-05 | 120               | 85              |\n",
    "| 2022-06-12 | 135               | 90              |\n",
    "| 2022-06-19 | 128               | 88              |\n",
    "| 2022-06-26 | 150               | 95              |\n",
    "\n",
    "2. Display the sales dataframe\n",
    "3. Set the `week` column as index"
   ]
  },
  {
   "cell_type": "code",
   "execution_count": null,
   "id": "26c6130a",
   "metadata": {},
   "outputs": [],
   "source": [
    "\n"
   ]
  },
  {
   "cell_type": "markdown",
   "id": "fea35ec6",
   "metadata": {},
   "source": [
    "More often, DataFrames are created from data files, like **CSV (comma-separated values)** files, using [`pd.read_csv()`](https://pandas.pydata.org/pandas-docs/stable/reference/api/pandas.read_csv.html) function.\n",
    "\n",
    "**Let's import our first dataframe**"
   ]
  },
  {
   "cell_type": "code",
   "execution_count": null,
   "id": "f159c0cd",
   "metadata": {},
   "outputs": [],
   "source": [
    "\n"
   ]
  },
  {
   "cell_type": "code",
   "execution_count": null,
   "id": "12d5d449",
   "metadata": {},
   "outputs": [],
   "source": []
  },
  {
   "cell_type": "markdown",
   "id": "a8951789",
   "metadata": {},
   "source": [
    "### Viewing, Selecting, Assigning & Missing Data"
   ]
  },
  {
   "cell_type": "code",
   "execution_count": null,
   "id": "279ef38a",
   "metadata": {},
   "outputs": [],
   "source": []
  },
  {
   "cell_type": "code",
   "execution_count": null,
   "id": "fd639692",
   "metadata": {},
   "outputs": [],
   "source": []
  },
  {
   "cell_type": "code",
   "execution_count": null,
   "metadata": {},
   "outputs": [],
   "source": []
  },
  {
   "cell_type": "code",
   "execution_count": null,
   "metadata": {},
   "outputs": [],
   "source": []
  },
  {
   "cell_type": "markdown",
   "id": "d6f00e99",
   "metadata": {},
   "source": [
    "### Selecting Data\n",
    "\n",
    "Also called **indexing**, it is the most common operation in Pandas. We discuss 4 cases selecting data from a DataFrame:\n",
    "1. Selecting one **column** (as a Series)\n",
    "2. Selecting by **label**\n",
    "3. Selecting by **position**\n",
    "4. Selecting by **conditions**\n",
    "\n",
    "We will practice with the wine review DataFrame."
   ]
  },
  {
   "cell_type": "code",
   "execution_count": null,
   "id": "17c0eb7b",
   "metadata": {},
   "outputs": [],
   "source": []
  },
  {
   "cell_type": "markdown",
   "id": "64af417f",
   "metadata": {},
   "source": [
    "**1. Selecting a column**"
   ]
  },
  {
   "cell_type": "code",
   "execution_count": null,
   "id": "27c1f656",
   "metadata": {},
   "outputs": [],
   "source": []
  },
  {
   "cell_type": "code",
   "execution_count": null,
   "id": "b7f742c5",
   "metadata": {},
   "outputs": [],
   "source": []
  },
  {
   "cell_type": "markdown",
   "id": "559f14f3",
   "metadata": {},
   "source": [
    "**2. Selecting by label**\n",
    "\n",
    "Here \"label\" means the \"row names\" `index` and the \"column names\" `columns`."
   ]
  },
  {
   "cell_type": "code",
   "execution_count": null,
   "id": "4007b53e",
   "metadata": {},
   "outputs": [],
   "source": []
  },
  {
   "cell_type": "markdown",
   "id": "31afdc16",
   "metadata": {},
   "source": [
    "Use `loc[]` to access part of the DataFrame by row and column **labels**. Note the `[]` instead of `()`."
   ]
  },
  {
   "cell_type": "code",
   "execution_count": null,
   "id": "f6975ed2",
   "metadata": {},
   "outputs": [],
   "source": []
  },
  {
   "cell_type": "markdown",
   "id": "564679ec",
   "metadata": {},
   "source": [
    "We can use `:` inside `.loc[]` to access either all rows for a given column(s)"
   ]
  },
  {
   "cell_type": "code",
   "execution_count": null,
   "id": "8b12b9ba",
   "metadata": {},
   "outputs": [],
   "source": []
  },
  {
   "cell_type": "markdown",
   "id": "80183b48",
   "metadata": {},
   "source": [
    "We can rearrange our `.loc[]` to obtain all columns for specif range of rows too!"
   ]
  },
  {
   "cell_type": "code",
   "execution_count": null,
   "id": "d36a7939",
   "metadata": {},
   "outputs": [],
   "source": []
  },
  {
   "cell_type": "markdown",
   "id": "4c5e0634",
   "metadata": {},
   "source": [
    "We can use the `:` inside `.loc[]` to obtain a range from a specific point until the end of the dataframe "
   ]
  },
  {
   "cell_type": "code",
   "execution_count": null,
   "id": "f0e1afaa",
   "metadata": {},
   "outputs": [],
   "source": []
  },
  {
   "cell_type": "markdown",
   "id": "2751b524",
   "metadata": {},
   "source": [
    "**3. Selecting by position**\n",
    "\n",
    "Here \"position\" means the *numerical location*, i.e., row number and column number (both start from 0 per Python convention), in the DataFrame.\n",
    "\n",
    "Use `iloc[]` to access part of the DataFrame by row and column numbers. Note the `[]` instead of `()`."
   ]
  },
  {
   "cell_type": "code",
   "execution_count": null,
   "id": "1fb77a64",
   "metadata": {},
   "outputs": [],
   "source": []
  },
  {
   "cell_type": "code",
   "execution_count": null,
   "id": "696d5ce3",
   "metadata": {},
   "outputs": [],
   "source": []
  },
  {
   "cell_type": "code",
   "execution_count": null,
   "id": "ec15d717",
   "metadata": {},
   "outputs": [],
   "source": []
  },
  {
   "cell_type": "code",
   "execution_count": null,
   "id": "b1de4ab5",
   "metadata": {},
   "outputs": [],
   "source": []
  },
  {
   "cell_type": "markdown",
   "id": "27507b48",
   "metadata": {},
   "source": [
    "**4. Selecting by conditions**\n",
    "\n",
    "This is also called **boolean indexing**, usually used to select *rows* satisfying certain conditions."
   ]
  },
  {
   "cell_type": "code",
   "execution_count": null,
   "id": "43be4ec9",
   "metadata": {},
   "outputs": [],
   "source": []
  },
  {
   "cell_type": "markdown",
   "id": "3d4c4c3a",
   "metadata": {},
   "source": [
    "How can we satisfy more than one condition?\n",
    "\n",
    "We still need `[]` as we are passing a list of labels or conditions.\n",
    "\n",
    "We can seprate our conditions using the `&`.\n",
    "\n",
    "We will also need wrap our conditions using `()` due to precedence.\n",
    "\n",
    "In python `==` have a higher precedence than bitwise operators like `&`.\n",
    "\n",
    "So we need any `==` to be evaluated first and then combined."
   ]
  },
  {
   "cell_type": "code",
   "execution_count": null,
   "id": "ee6f7491",
   "metadata": {},
   "outputs": [],
   "source": []
  },
  {
   "cell_type": "code",
   "execution_count": null,
   "id": "f8d3139b",
   "metadata": {},
   "outputs": [],
   "source": []
  },
  {
   "cell_type": "markdown",
   "id": "fd3ac9e0",
   "metadata": {},
   "source": [
    "We can also satisfy 2 conditions within a column using `.isin()` and passing it a list"
   ]
  },
  {
   "cell_type": "code",
   "execution_count": null,
   "id": "51abd56d",
   "metadata": {},
   "outputs": [],
   "source": []
  },
  {
   "cell_type": "markdown",
   "id": "9debb67d",
   "metadata": {},
   "source": [
    "Missing values can also be considered as conditions"
   ]
  },
  {
   "cell_type": "code",
   "execution_count": null,
   "id": "070b4f61",
   "metadata": {},
   "outputs": [],
   "source": []
  },
  {
   "cell_type": "markdown",
   "id": "01727543",
   "metadata": {},
   "source": [
    "#### Missing Data\n",
    "\n",
    "Detect missing data `np.nan`:"
   ]
  },
  {
   "cell_type": "code",
   "execution_count": null,
   "id": "16a636bc",
   "metadata": {},
   "outputs": [],
   "source": []
  },
  {
   "cell_type": "markdown",
   "id": "e42eb0eb",
   "metadata": {},
   "source": [
    "Filling in missing data"
   ]
  },
  {
   "cell_type": "code",
   "execution_count": null,
   "id": "e35ceffe",
   "metadata": {},
   "outputs": [],
   "source": []
  },
  {
   "cell_type": "markdown",
   "id": "3936cc83",
   "metadata": {},
   "source": [
    "Drop missing data"
   ]
  },
  {
   "cell_type": "code",
   "execution_count": null,
   "id": "511e1503",
   "metadata": {},
   "outputs": [],
   "source": [
    "\n"
   ]
  },
  {
   "cell_type": "code",
   "execution_count": null,
   "id": "d4a4c8e5",
   "metadata": {},
   "outputs": [],
   "source": []
  },
  {
   "cell_type": "markdown",
   "id": "acdec203",
   "metadata": {},
   "source": [
    "#### Exercise\n",
    "\n",
    "Create a \"sub\"-DataFrame from `reviews` that contains the `country`, `province`, `region_1` and `region_2` columns with index labels `10`, `750` and `1200`."
   ]
  },
  {
   "cell_type": "code",
   "execution_count": null,
   "id": "d8ce8606",
   "metadata": {},
   "outputs": [],
   "source": []
  },
  {
   "cell_type": "markdown",
   "id": "2717338e",
   "metadata": {},
   "source": [
    "Create a \"sub\"-DataFrame from `reviews` that contains all reviews with at least 95 points for wines from oceanian countries (Australia and New Zealand)."
   ]
  },
  {
   "cell_type": "code",
   "execution_count": null,
   "id": "ce644fca",
   "metadata": {},
   "outputs": [],
   "source": []
  },
  {
   "cell_type": "markdown",
   "id": "1475dd64",
   "metadata": {},
   "source": [
    "### Summary Functions\n",
    "\n",
    "Summary functions allow us to quickly describe and understand a dataset by computing key statistics. Common examples include `.mean()`, `.median()`, `.min()`, `.max()`, and `.sum()` for numerical data, as well as `.value_counts()` for categorical data. These functions can be applied to entire DataFrames or specific columns, giving us insights such as average values, distributions, and totals. Using `.describe()` provides a convenient overview of multiple summary statistics at once.\n"
   ]
  },
  {
   "cell_type": "code",
   "execution_count": null,
   "id": "5b5b45cd",
   "metadata": {},
   "outputs": [],
   "source": []
  },
  {
   "cell_type": "code",
   "execution_count": null,
   "id": "a2fe9da6",
   "metadata": {},
   "outputs": [],
   "source": []
  },
  {
   "cell_type": "code",
   "execution_count": null,
   "id": "3ba45176",
   "metadata": {},
   "outputs": [],
   "source": []
  },
  {
   "cell_type": "code",
   "execution_count": null,
   "id": "21b1bc52",
   "metadata": {},
   "outputs": [],
   "source": []
  },
  {
   "cell_type": "markdown",
   "id": "cceb7757",
   "metadata": {},
   "source": [
    "For numerical columns, we can obtain the mean, median, min, max and sum\n",
    "\n",
    "Useful for obtaining quick statistics"
   ]
  },
  {
   "cell_type": "code",
   "execution_count": null,
   "id": "2b293b1c",
   "metadata": {},
   "outputs": [],
   "source": []
  },
  {
   "cell_type": "markdown",
   "id": "6cde0943",
   "metadata": {},
   "source": [
    "## All Done!"
   ]
  }
 ],
 "metadata": {
  "kernelspec": {
   "display_name": "Python 3",
   "language": "python",
   "name": "python3"
  },
  "language_info": {
   "codemirror_mode": {
    "name": "ipython",
    "version": 3
   },
   "file_extension": ".py",
   "mimetype": "text/x-python",
   "name": "python",
   "nbconvert_exporter": "python",
   "pygments_lexer": "ipython3",
   "version": "3.12.1"
  }
 },
 "nbformat": 4,
 "nbformat_minor": 5
}
